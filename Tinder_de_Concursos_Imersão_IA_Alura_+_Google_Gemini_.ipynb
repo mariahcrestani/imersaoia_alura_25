{
  "nbformat": 4,
  "nbformat_minor": 0,
  "metadata": {
    "colab": {
      "provenance": [],
      "include_colab_link": true
    },
    "kernelspec": {
      "name": "python3",
      "display_name": "Python 3"
    },
    "language_info": {
      "name": "python"
    }
  },
  "cells": [
    {
      "cell_type": "markdown",
      "metadata": {
        "id": "view-in-github",
        "colab_type": "text"
      },
      "source": [
        "<a href=\"https://colab.research.google.com/github/mariahcrestani/imersaoia_alura_25/blob/main/Tinder_de_Concursos_Imers%C3%A3o_IA_Alura_%2B_Google_Gemini_.ipynb\" target=\"_parent\"><img src=\"https://colab.research.google.com/assets/colab-badge.svg\" alt=\"Open In Colab\"/></a>"
      ]
    },
    {
      "cell_type": "code",
      "source": [
        "%pip -q install google-genai"
      ],
      "metadata": {
        "id": "UCCbECexLk_h"
      },
      "execution_count": 53,
      "outputs": []
    },
    {
      "cell_type": "code",
      "source": [
        "for model in client.models.list():\n",
        "    print(model.name)"
      ],
      "metadata": {
        "colab": {
          "base_uri": "https://localhost:8080/"
        },
        "id": "vWj0YcFuntHr",
        "outputId": "c25f8534-4cc7-4ca2-a486-740c84afece7"
      },
      "execution_count": 73,
      "outputs": [
        {
          "output_type": "stream",
          "name": "stdout",
          "text": [
            "models/embedding-gecko-001\n",
            "models/gemini-1.0-pro-vision-latest\n",
            "models/gemini-pro-vision\n",
            "models/gemini-1.5-pro-latest\n",
            "models/gemini-1.5-pro-001\n",
            "models/gemini-1.5-pro-002\n",
            "models/gemini-1.5-pro\n",
            "models/gemini-1.5-flash-latest\n",
            "models/gemini-1.5-flash-001\n",
            "models/gemini-1.5-flash-001-tuning\n",
            "models/gemini-1.5-flash\n",
            "models/gemini-1.5-flash-002\n",
            "models/gemini-1.5-flash-8b\n",
            "models/gemini-1.5-flash-8b-001\n",
            "models/gemini-1.5-flash-8b-latest\n",
            "models/gemini-1.5-flash-8b-exp-0827\n",
            "models/gemini-1.5-flash-8b-exp-0924\n",
            "models/gemini-2.5-pro-exp-03-25\n",
            "models/gemini-2.5-pro-preview-03-25\n",
            "models/gemini-2.5-flash-preview-04-17\n",
            "models/gemini-2.5-flash-preview-04-17-thinking\n",
            "models/gemini-2.5-pro-preview-05-06\n",
            "models/gemini-2.0-flash-exp\n",
            "models/gemini-2.0-flash\n",
            "models/gemini-2.0-flash-001\n",
            "models/gemini-2.0-flash-exp-image-generation\n",
            "models/gemini-2.0-flash-lite-001\n",
            "models/gemini-2.0-flash-lite\n",
            "models/gemini-2.0-flash-preview-image-generation\n",
            "models/gemini-2.0-flash-lite-preview-02-05\n",
            "models/gemini-2.0-flash-lite-preview\n",
            "models/gemini-2.0-pro-exp\n",
            "models/gemini-2.0-pro-exp-02-05\n",
            "models/gemini-exp-1206\n",
            "models/gemini-2.0-flash-thinking-exp-01-21\n",
            "models/gemini-2.0-flash-thinking-exp\n",
            "models/gemini-2.0-flash-thinking-exp-1219\n",
            "models/learnlm-2.0-flash-experimental\n",
            "models/gemma-3-1b-it\n",
            "models/gemma-3-4b-it\n",
            "models/gemma-3-12b-it\n",
            "models/gemma-3-27b-it\n",
            "models/embedding-001\n",
            "models/text-embedding-004\n",
            "models/gemini-embedding-exp-03-07\n",
            "models/gemini-embedding-exp\n",
            "models/aqa\n",
            "models/imagen-3.0-generate-002\n",
            "models/gemini-2.0-flash-live-001\n"
          ]
        }
      ]
    },
    {
      "cell_type": "code",
      "source": [
        "# Configura a API Key do Google Gemini\n",
        "\n",
        "import os\n",
        "from google.colab import userdata\n",
        "\n",
        "os.environ[\"GOOGLE_API_KEY\"] = userdata.get('GOOGLE_API_KEY')"
      ],
      "metadata": {
        "id": "NfCqHo1tLk8P"
      },
      "execution_count": 54,
      "outputs": []
    },
    {
      "cell_type": "code",
      "source": [
        "# Configura o cliente da SDK do Gemini\n",
        "\n",
        "from google import genai\n",
        "\n",
        "client = genai.Client()\n",
        "\n",
        "MODEL_ID = \"gemini-2.0-flash\""
      ],
      "metadata": {
        "id": "bV4w0H5TLk5g"
      },
      "execution_count": 55,
      "outputs": []
    },
    {
      "cell_type": "code",
      "source": [
        "# Instalar Framework de agentes do Google ################################################\n",
        "!pip install -q google-adk"
      ],
      "metadata": {
        "id": "a1eRPalxEnj7"
      },
      "execution_count": 56,
      "outputs": []
    },
    {
      "cell_type": "code",
      "execution_count": 8,
      "metadata": {
        "id": "aePV2bdfDeoW"
      },
      "outputs": [],
      "source": [
        "from google.adk.agents import Agent\n",
        "from google.adk.runners import Runner\n",
        "from google.adk.sessions import InMemorySessionService\n",
        "from google.adk.tools import google_search\n",
        "from google.genai import types  # Para criar conteúdos (Content e Part)\n",
        "from datetime import date\n",
        "import textwrap # Para formatar melhor a saída de texto\n",
        "from IPython.display import display, Markdown # Para exibir texto formatado no Colab\n",
        "import requests # Para fazer requisições HTTP\n",
        "import warnings\n",
        "\n",
        "warnings.filterwarnings(\"ignore\")"
      ]
    },
    {
      "cell_type": "code",
      "source": [
        "# Função auxiliar que envia uma mensagem para um agente via Runner e retorna a resposta final\n",
        "def call_agent(agent: Agent, message_text: str) -> str:\n",
        "    # Cria um serviço de sessão em memória\n",
        "    session_service = InMemorySessionService()\n",
        "    # Cria uma nova sessão (você pode personalizar os IDs conforme necessário)\n",
        "    session = session_service.create_session(app_name=agent.name, user_id=\"user1\", session_id=\"session1\")\n",
        "    # Cria um Runner para o agente\n",
        "    runner = Runner(agent=agent, app_name=agent.name, session_service=session_service)\n",
        "    # Cria o conteúdo da mensagem de entrada\n",
        "    content = types.Content(role=\"user\", parts=[types.Part(text=message_text)])\n",
        "\n",
        "    final_response = \"\"\n",
        "    # Itera assincronamente pelos eventos retornados durante a execução do agente\n",
        "    for event in runner.run(user_id=\"user1\", session_id=\"session1\", new_message=content):\n",
        "        if event.is_final_response():\n",
        "          for part in event.content.parts:\n",
        "            if part.text is not None:\n",
        "              final_response += part.text\n",
        "              final_response += \"\\n\"\n",
        "    return final_response"
      ],
      "metadata": {
        "id": "_xP4lWhsS5ko"
      },
      "execution_count": 57,
      "outputs": []
    },
    {
      "cell_type": "code",
      "source": [
        "# Função auxiliar para exibir texto formatado em Markdown no Colab\n",
        "def to_markdown(text):\n",
        "  text = text.replace('•', '  *')\n",
        "  return Markdown(textwrap.indent(text, '> ', predicate=lambda _: True))"
      ],
      "metadata": {
        "id": "8dosiodaxfFR"
      },
      "execution_count": 90,
      "outputs": []
    },
    {
      "cell_type": "code",
      "source": [
        "##########################################\n",
        "# --- Agente 1: Perfil do Concurseiro --- #\n",
        "##########################################\n",
        "def agente_perfil(resposta_usuario):\n",
        "\n",
        "    perfil = Agent(\n",
        "        name=\"agente_perfil\",\n",
        "        model=\"gemini-2.0-flash\",\n",
        "        instruction=\"\"\"\n",
        "\n",
        "Você é um agente especializado em acolher usuários e coletar informações para personalização de busca por concursos públicos. Inicie a conversa de forma amigável e faça as seguintes perguntas, uma de cada vez, garantindo que o usuário compreenda e responda a cada uma antes de prosseguir para a próxima. O objetivo é construir um perfil detalhado.\n",
        "Após coletar as três respostas, compile-as em um **perfil de usuário estruturado**, utilizando os seguintes campos:\n",
        "- **Escolaridade:** [Resposta do Usuário]\n",
        "- **Área(s) de Interesse:** [Resposta(s) do Usuário]\n",
        "- **Localidade(s) de Interesse:** [Resposta(s) do Usuário]\n",
        "\"\"\",\n",
        "        description=\"Agente que coleta informações para criar o perfil do concurseiro\",\n",
        "        tools=[google_search]\n",
        "    )\n",
        "\n",
        "    entrada_do_agente_perfil = f\"Respostas do usuário: {resposta_usuario}\"\n",
        "\n",
        "    perfil_resultados_usuario = call_agent(perfil, entrada_do_agente_perfil)\n",
        "    return perfil_resultados_usuario"
      ],
      "metadata": {
        "id": "o8bqIfi_DyH8"
      },
      "execution_count": 91,
      "outputs": []
    },
    {
      "cell_type": "code",
      "source": [
        "################################################\n",
        "# --- Agente 2: Buscador de Concursos --- #\n",
        "################################################\n",
        "def agente_buscador(perfil_resultado_usuario, data_de_hoje):\n",
        "    buscador = Agent(\n",
        "        name=\"agente_buscador\",\n",
        "        model=\"gemini-2.5-flash-preview-04-17\",\n",
        "        # Inserir as instruções do Agente Buscador de Concursos #################################################\n",
        "        instruction=\"\"\"\n",
        "Você é um agente especialista em pesquisa de concursos públicos. Com base no **perfil de usuário fornecido**, sua missão é realizar uma busca abrangente no Google para identificar os **10 concursos públicos mais relevantes e atualizados** que se encaixam nos critérios.\n",
        "\n",
        "**Perfil do Usuário:**\n",
        "[Perfil gerado pelo Agente 1, ex:\n",
        "- Escolaridade: Superior Completo\n",
        "- Área(s) de Interesse: Educação, Tecnologia\n",
        "- Localidade(s) de Interesse: São Paulo (SP), Nacional\n",
        "]\n",
        "\n",
        "**Sua pesquisa deve considerar os seguintes pontos:**\n",
        "1. Utilize **termos de busca variados e estratégicos** no Google, combinando escolaridade, área de interesse, localidade e palavras-chave como \"concursos abertos\", \"editais concursos\", \"vagas concursos\".\n",
        "2. Priorize resultados de **fontes confiáveis** (sites de órgãos governamentais, bancas organizadoras, portais de notícias de concursos renomados).\n",
        "3. Foque em concursos com **inscrições abertas ou iminentes** (previstas para breve).\n",
        "4. Extraia as **seguintes informações** para cada concurso relevante encontrado:\n",
        "    * **Nome do Órgão/Banca:** (Ex: Prefeitura de São Paulo, IBFC, CESPE)\n",
        "    * **Cargo(s) Abrangido(s):** (Ex: Professor de Matemática, Analista de Sistemas, Técnico Administrativo)\n",
        "    * **Escolaridade Exigida:** (Ex: Nível Superior, Nível Médio)\n",
        "    * **Localidade do Concurso:** (Ex: São Paulo, Brasília)\n",
        "    * **Número de Vagas (se disponível):** (Ex: 10 vagas, Cadastro de Reserva)\n",
        "    * **Estimativa Salarial (se disponível):** (Ex: R$ 5.000,00 - R$ 8.000,00 ou conforme edital)\n",
        "    * **Data Limite para Inscrição (se disponível):**\n",
        "    * **Link para o Edital/Página Oficial:**\n",
        "5. Apresente os 10 concursos encontrados em uma **lista numerada e organizada**, com as informações claras para cada item. Se não houver 10 resultados altamente relevantes, liste todos os que encontrar, explicando se o número é menor.\n",
        "\"\"\",\n",
        "        description=\"Agente Responsável pela Busca dos Concursos Relevantes\",\n",
        "        tools=[google_search]\n",
        "    )\n",
        "\n",
        "    entrada_do_agente_buscador = f\"Perfil do Usuário:{perfil_resultado_usuario}\\nData de hoje: {data_de_hoje}\"\n",
        "\n",
        "    lista_de_concursos = call_agent(buscador, entrada_do_agente_buscador)\n",
        "    return lista_de_concursos # Continue retornando o resultado bruto\n"
      ],
      "metadata": {
        "id": "y3VO1uo5_ghO"
      },
      "execution_count": 123,
      "outputs": []
    },
    {
      "cell_type": "code",
      "source": [
        "######################################\n",
        "# --- Agente 3: Match de Concursos --- #\n",
        "######################################\n",
        "def agente_matcher(perfil_resultado_usuario, lista_de_concursos):\n",
        "    matcher = Agent(\n",
        "        name=\"agente_matcher\",\n",
        "        model=\"gemini-2.5-flash-preview-04-17-thinking\",\n",
        "        instruction=\"\"\"\n",
        "        Você é um agente especialista em análise e recomendação de concursos públicos. Receberá uma **lista de concursos públicos** (gerada pelo Agente 2) e o **perfil detalhado do usuário** (gerado pelo Agente 1). Sua tarefa é analisar cuidadosamente cada concurso da lista e identificar o **concurso mais ideal ou os 2-3 mais ideais** para o usuário, justificando sua escolha.\n",
        "\n",
        "**Perfil do Usuário:**\n",
        "[Perfil gerado pelo Agente 1]\n",
        "\n",
        "**Lista de Concursos Encontrados:**\n",
        "[Lista gerada pelo Agente 2]\n",
        "\n",
        "**Critérios de Análise para o Match:**\n",
        "1.  **Escolaridade:** O concurso exige a escolaridade que o usuário possui ou é compatível?\n",
        "2.  **Área de Interesse:** O cargo/área do concurso se alinha com a(s) área(s) de interesse do usuário? Priorize a correspondência direta.\n",
        "3.  **Localidade:** A localidade do concurso é uma das preferências do usuário (estado, cidade, ou nacional)?\n",
        "4.  **Estimativa Salarial:** O salário oferecido é atrativo e condizente com as expectativas do usuário (se inferível ou se o usuário tiver expressado preferência em alguma etapa anterior)?\n",
        "5.  **Nível de Dificuldade:** O nível de dificuldade estimado do concurso (se disponível/inferível) se alinha com o que o usuário provavelmente está preparado para enfrentar, ou se a dificuldade é aceitável para o potencial retorno?\n",
        "6.  **Relevância Adicional:** Considere fatores como prazo de inscrição (mais curto pode indicar maior urgência), número de vagas (mais vagas podem ser mais atrativas), e a reputação do órgão/banca.\n",
        "\n",
        "**Sua saída deve ser:**\n",
        "* Uma **breve introdução** confirmando que a análise foi realizada.\n",
        "* O **concurso (ou concursos) mais ideal(is)** para o usuário, apresentando todas as informações que foram extraídas pelo Agente 2 para este(s) concurso(s).\n",
        "* Uma **justificativa detalhada** explicando por que este(s) concurso(s) foi(ram) considerado(s) o(s) mais adequado(s), mencionando explicitamente como ele(s) se alinha(m) com a escolaridade, área(s) de interesse, localidade(s), **estimativa salarial** e **nível de dificuldade** do usuário.\n",
        "* Se houver um empate técnico entre 2-3 concursos, apresente-os e explique as vantagens de cada um.\n",
        "\"\"\"        ,\n",
        "        description=\"Agente Especialista na Seleção do Concurso Ideal\"\n",
        "    )\n",
        "    entrada_do_agente_matcher = f\"Perfil do Usuário: {perfil_resultado_usuario}\\nLista de Concursos: {lista_de_concursos}\"\n",
        "    # Executa o agente\n",
        "    concursos_recomendados = call_agent(matcher, entrada_do_agente_matcher)\n",
        "    return concursos_recomendados"
      ],
      "metadata": {
        "id": "uOqlg2TRLVh1"
      },
      "execution_count": 124,
      "outputs": []
    },
    {
      "cell_type": "code",
      "source": [
        "##########################################\n",
        "# --- Agente 4: Apresentado de Resultados --- #\n",
        "##########################################\n",
        "def agente_apresentador(concursos_recomendados):\n",
        "    apresentador = Agent(\n",
        "        name=\"agente_apresentador\",\n",
        "        model=\"gemini-2.5-flash-preview-04-17\",\n",
        "        instruction=\"\"\"\n",
        "Você é um agente especialista em comunicação e apresentação de resultados. Receberá a **recomendação de concurso(s) ideal(is)** e a **justificativa** (geradas pelo Agente 3). Sua tarefa é apresentar essa informação ao usuário de forma clara, amigável e encorajadora.\n",
        "\n",
        "**Informações Recebidas:**\n",
        "[Recomendação(ões) de concurso(s) do Agente 3, incluindo detalhes e justificativa]\n",
        "\n",
        "**Sua saída deve ser:**\n",
        "1. Uma **saudação inicial** calorosa e personalizada, direcionada ao usuário.\n",
        "2. Apresente o **concurso (ou concursos) que melhor se encaixa(m)** no perfil do usuário. Para cada concurso, liste as informações essenciais de forma organizada (Órgão/Banca, Cargo, Escolaridade, Localidade, Vagas, Estimativa Salarial, Nível de Dificuldade, Prazo de Inscrição, Link).\n",
        "3. **Explique de forma concisa e acessível** por que este(s) concurso(s) foi(ram) considerado(s) o(s) mais adequado(s), utilizando a justificativa fornecida pelo Agente 3, mas refraseando-a para ser mais direta e compreensível para o usuário leigo.\n",
        "4. Encoraje o usuário a **clicar no link do edital** para obter mais informações e realizar a inscrição.\n",
        "5. Ofereça-se para **ajudar com novas buscas** ou tirar dúvidas, caso o usuário deseje.\n",
        "6. Mantenha um **tom otimista e prestativo** durante toda a comunicação.\n",
        "\"\"\",\n",
        "        description=\"Agente que formata e apresenta os resultados ao usuário\"\n",
        "    )\n",
        "    entrada_do_agente_apresentador = f\"Concursos Recomendados: {concursos_recomendados}\"\n",
        "    # Executa o agente\n",
        "    resultado_formatado = call_agent(apresentador, entrada_do_agente_apresentador)\n",
        "    return resultado_formatado"
      ],
      "metadata": {
        "id": "_aTb1SdkLeT6"
      },
      "execution_count": 125,
      "outputs": []
    },
    {
      "cell_type": "code",
      "source": [
        "data_de_hoje = date.today().strftime(\"%d/%m/%Y\")\n",
        "\n",
        "print(\"🔥 Bem-vindo(a) ao Tinder para Concursos! 🔥\")\n",
        "print(\"Preparado(a) para dar o MATCH no concurso perfeito para você?\")\n",
        "print(\"\\nPrimeiro, vamos te conhecer melhor com 3 perguntinhas rápidas:\")\n",
        "\n",
        "\n",
        "# --- Obter o Tópico do Usuário ---\n",
        "# Pergunta 1: Escolaridade\n",
        "escolaridade_usuario = input(\"1. Qual é a escolaridade atual (nível fundamental, médio, técnico, superior completo, pós-graduação, etc.)? \")\n",
        "\n",
        "# Pergunta 2: Área de Interesse\n",
        "area_interesse_usuario = input(\"2. Em qual area de interesse você busca concursos (ex: educação, saúde, direito, tecnologia, segurança pública, administrativa, fiscal, etc.)? Se tiver mais de uma, pode listar. \")\n",
        "\n",
        "# Pergunta 3: Localidade\n",
        "localidade_interesse_usuario = input(\"3. Qual a localidade em que você tem interesse em fazer o concurso (Estado, cidade ou \\\"nacional\\\" para todo o Brasil)? \")\n",
        "\n",
        "# Combinar as respostas em um formato adequado para o agente\n",
        "# Você pode formatar como uma string simples ou um formato mais estruturado\n",
        "resposta_usuario = f\"\"\"\n",
        "Escolaridade: {escolaridade_usuario}\n",
        "Área(s) de Interesse: {area_interesse_usuario}\n",
        "Localidade(s) de Interesse: {localidade_interesse_usuario}\n",
        "\"\"\"\n",
        "\n",
        "\n",
        "# Inserir lógica do sistema de agentes ################################################\n",
        "if not resposta_usuario:\n",
        "    print(\"Por favor, responda o quiz para proseguir\")\n",
        "else:\n",
        "    print(f\"Maravilha! Vamos encontrar as melhores opções para você\")\n",
        "\n",
        "    perfil_resultado_usuario = agente_perfil(resposta_usuario)\n",
        "    print(\"\\n--- 📝 Resultado do Agente 1 (Perfil do Usuário) ---\\n\")\n",
        "    display(to_markdown(perfil_resultado_usuario))\n",
        "    print(\"--------------------------------------------------------------\")\n",
        "\n",
        "    lista_de_concursos = agente_buscador(perfil_resultado_usuario, data_de_hoje)\n",
        "\n",
        "    matcher_resultado = agente_matcher(perfil_resultado_usuario, lista_de_concursos)\n",
        "\n",
        "    resultados_formatados = agente_apresentador (matcher_resultado)\n",
        "    print(\"\\n--- 📝 Resultado do Agente 4 (Resultados) ---\\n\")\n",
        "    display(to_markdown(resultados_formatados))\n",
        "    print(\"--------------------------------------------------------------\")"
      ],
      "metadata": {
        "colab": {
          "base_uri": "https://localhost:8080/",
          "height": 426
        },
        "id": "6xzI6LKzxxnN",
        "outputId": "1785e32e-bfc4-4fcb-9a51-4b48f90c1300"
      },
      "execution_count": 129,
      "outputs": [
        {
          "output_type": "stream",
          "name": "stdout",
          "text": [
            "🔥 Bem-vindo(a) ao Tinder para Concursos! 🔥\n",
            "Preparado(a) para dar o MATCH no concurso perfeito para você?\n",
            "\n",
            "Primeiro, vamos te conhecer melhor com 3 perguntinhas rápidas:\n"
          ]
        },
        {
          "output_type": "error",
          "ename": "KeyboardInterrupt",
          "evalue": "Interrupted by user",
          "traceback": [
            "\u001b[0;31m---------------------------------------------------------------------------\u001b[0m",
            "\u001b[0;31mKeyboardInterrupt\u001b[0m                         Traceback (most recent call last)",
            "\u001b[0;32m<ipython-input-129-2923198670aa>\u001b[0m in \u001b[0;36m<cell line: 0>\u001b[0;34m()\u001b[0m\n\u001b[1;32m      8\u001b[0m \u001b[0;31m# --- Obter o Tópico do Usuário ---\u001b[0m\u001b[0;34m\u001b[0m\u001b[0;34m\u001b[0m\u001b[0m\n\u001b[1;32m      9\u001b[0m \u001b[0;31m# Pergunta 1: Escolaridade\u001b[0m\u001b[0;34m\u001b[0m\u001b[0;34m\u001b[0m\u001b[0m\n\u001b[0;32m---> 10\u001b[0;31m \u001b[0mescolaridade_usuario\u001b[0m \u001b[0;34m=\u001b[0m \u001b[0minput\u001b[0m\u001b[0;34m(\u001b[0m\u001b[0;34m\"1. Qual é a escolaridade atual (nível fundamental, médio, técnico, superior completo, pós-graduação, etc.)? \"\u001b[0m\u001b[0;34m)\u001b[0m\u001b[0;34m\u001b[0m\u001b[0;34m\u001b[0m\u001b[0m\n\u001b[0m\u001b[1;32m     11\u001b[0m \u001b[0;34m\u001b[0m\u001b[0m\n\u001b[1;32m     12\u001b[0m \u001b[0;31m# Pergunta 2: Área de Interesse\u001b[0m\u001b[0;34m\u001b[0m\u001b[0;34m\u001b[0m\u001b[0m\n",
            "\u001b[0;32m/usr/local/lib/python3.11/dist-packages/ipykernel/kernelbase.py\u001b[0m in \u001b[0;36mraw_input\u001b[0;34m(self, prompt)\u001b[0m\n\u001b[1;32m   1175\u001b[0m                 \u001b[0;34m\"raw_input was called, but this frontend does not support input requests.\"\u001b[0m\u001b[0;34m\u001b[0m\u001b[0;34m\u001b[0m\u001b[0m\n\u001b[1;32m   1176\u001b[0m             )\n\u001b[0;32m-> 1177\u001b[0;31m         return self._input_request(\n\u001b[0m\u001b[1;32m   1178\u001b[0m             \u001b[0mstr\u001b[0m\u001b[0;34m(\u001b[0m\u001b[0mprompt\u001b[0m\u001b[0;34m)\u001b[0m\u001b[0;34m,\u001b[0m\u001b[0;34m\u001b[0m\u001b[0;34m\u001b[0m\u001b[0m\n\u001b[1;32m   1179\u001b[0m             \u001b[0mself\u001b[0m\u001b[0;34m.\u001b[0m\u001b[0m_parent_ident\u001b[0m\u001b[0;34m[\u001b[0m\u001b[0;34m\"shell\"\u001b[0m\u001b[0;34m]\u001b[0m\u001b[0;34m,\u001b[0m\u001b[0;34m\u001b[0m\u001b[0;34m\u001b[0m\u001b[0m\n",
            "\u001b[0;32m/usr/local/lib/python3.11/dist-packages/ipykernel/kernelbase.py\u001b[0m in \u001b[0;36m_input_request\u001b[0;34m(self, prompt, ident, parent, password)\u001b[0m\n\u001b[1;32m   1217\u001b[0m             \u001b[0;32mexcept\u001b[0m \u001b[0mKeyboardInterrupt\u001b[0m\u001b[0;34m:\u001b[0m\u001b[0;34m\u001b[0m\u001b[0;34m\u001b[0m\u001b[0m\n\u001b[1;32m   1218\u001b[0m                 \u001b[0;31m# re-raise KeyboardInterrupt, to truncate traceback\u001b[0m\u001b[0;34m\u001b[0m\u001b[0;34m\u001b[0m\u001b[0m\n\u001b[0;32m-> 1219\u001b[0;31m                 \u001b[0;32mraise\u001b[0m \u001b[0mKeyboardInterrupt\u001b[0m\u001b[0;34m(\u001b[0m\u001b[0;34m\"Interrupted by user\"\u001b[0m\u001b[0;34m)\u001b[0m \u001b[0;32mfrom\u001b[0m \u001b[0;32mNone\u001b[0m\u001b[0;34m\u001b[0m\u001b[0;34m\u001b[0m\u001b[0m\n\u001b[0m\u001b[1;32m   1220\u001b[0m             \u001b[0;32mexcept\u001b[0m \u001b[0mException\u001b[0m\u001b[0;34m:\u001b[0m\u001b[0;34m\u001b[0m\u001b[0;34m\u001b[0m\u001b[0m\n\u001b[1;32m   1221\u001b[0m                 \u001b[0mself\u001b[0m\u001b[0;34m.\u001b[0m\u001b[0mlog\u001b[0m\u001b[0;34m.\u001b[0m\u001b[0mwarning\u001b[0m\u001b[0;34m(\u001b[0m\u001b[0;34m\"Invalid Message:\"\u001b[0m\u001b[0;34m,\u001b[0m \u001b[0mexc_info\u001b[0m\u001b[0;34m=\u001b[0m\u001b[0;32mTrue\u001b[0m\u001b[0;34m)\u001b[0m\u001b[0;34m\u001b[0m\u001b[0;34m\u001b[0m\u001b[0m\n",
            "\u001b[0;31mKeyboardInterrupt\u001b[0m: Interrupted by user"
          ]
        }
      ]
    }
  ]
}